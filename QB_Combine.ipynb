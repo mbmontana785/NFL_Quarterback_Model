{
 "cells": [
  {
   "cell_type": "markdown",
   "id": "acb11a1e-2393-4591-96d7-d9c838c7cb44",
   "metadata": {},
   "source": [
    "# Adding combine data to college data\n",
    "We've iterated through this a few times before realizing that there are a few quarterbacks who went to the NFL Scouting Combine who don't show up in the college data we're using from ESPN. Those QBs didn't play at FBS schools, but some of them had productive careers in the NFL and some of them flopped. So we'll add them into the dataset."
   ]
  },
  {
   "cell_type": "code",
   "execution_count": 68,
   "id": "a89beb56-8992-425b-b41a-abd59be16e02",
   "metadata": {},
   "outputs": [],
   "source": [
    "import pandas as pd\n",
    "import numpy as np"
   ]
  },
  {
   "cell_type": "code",
   "execution_count": 69,
   "id": "974cbc74-4626-4c6d-83c9-969ebee37364",
   "metadata": {},
   "outputs": [],
   "source": [
    "main_df = pd.read_csv('dataset_pre_combine.csv')"
   ]
  },
  {
   "cell_type": "code",
   "execution_count": 70,
   "id": "239eefb2-397b-4dff-bfd4-b7949cbb1562",
   "metadata": {},
   "outputs": [
    {
     "data": {
      "text/html": [
       "<div>\n",
       "<style scoped>\n",
       "    .dataframe tbody tr th:only-of-type {\n",
       "        vertical-align: middle;\n",
       "    }\n",
       "\n",
       "    .dataframe tbody tr th {\n",
       "        vertical-align: top;\n",
       "    }\n",
       "\n",
       "    .dataframe thead th {\n",
       "        text-align: right;\n",
       "    }\n",
       "</style>\n",
       "<table border=\"1\" class=\"dataframe\">\n",
       "  <thead>\n",
       "    <tr style=\"text-align: right;\">\n",
       "      <th></th>\n",
       "      <th>Name</th>\n",
       "      <th>Power 5_3</th>\n",
       "      <th>Power 5_4</th>\n",
       "      <th>QBR_3</th>\n",
       "      <th>QBR_4</th>\n",
       "      <th>PAA_3</th>\n",
       "      <th>PAA_4</th>\n",
       "      <th>PLAYS_3</th>\n",
       "      <th>PLAYS_4</th>\n",
       "      <th>EPA_3</th>\n",
       "      <th>...</th>\n",
       "      <th>RAW_4</th>\n",
       "      <th>QBR_Diff</th>\n",
       "      <th>PAA_Diff</th>\n",
       "      <th>PLAYS_Diff</th>\n",
       "      <th>EPA_Diff</th>\n",
       "      <th>PASS_Diff</th>\n",
       "      <th>RUN_Diff</th>\n",
       "      <th>SACK_Diff</th>\n",
       "      <th>PEN_Diff</th>\n",
       "      <th>RAW_Diff</th>\n",
       "    </tr>\n",
       "  </thead>\n",
       "  <tbody>\n",
       "    <tr>\n",
       "      <th>0</th>\n",
       "      <td>A.J. Doyle</td>\n",
       "      <td>0.0</td>\n",
       "      <td>0.0</td>\n",
       "      <td>21.292818</td>\n",
       "      <td>22.0</td>\n",
       "      <td>-26.170233</td>\n",
       "      <td>-32.7</td>\n",
       "      <td>317.964741</td>\n",
       "      <td>321.0</td>\n",
       "      <td>-12.825698</td>\n",
       "      <td>...</td>\n",
       "      <td>25.8</td>\n",
       "      <td>0.707182</td>\n",
       "      <td>-6.529767</td>\n",
       "      <td>3.035259</td>\n",
       "      <td>-1.474302</td>\n",
       "      <td>-0.122754</td>\n",
       "      <td>0.072422</td>\n",
       "      <td>0.091483</td>\n",
       "      <td>0.043697</td>\n",
       "      <td>0.814387</td>\n",
       "    </tr>\n",
       "    <tr>\n",
       "      <th>1</th>\n",
       "      <td>A.J. Erdely</td>\n",
       "      <td>0.0</td>\n",
       "      <td>0.0</td>\n",
       "      <td>49.500000</td>\n",
       "      <td>46.1</td>\n",
       "      <td>24.400000</td>\n",
       "      <td>7.8</td>\n",
       "      <td>486.000000</td>\n",
       "      <td>293.0</td>\n",
       "      <td>40.100000</td>\n",
       "      <td>...</td>\n",
       "      <td>56.9</td>\n",
       "      <td>-3.400000</td>\n",
       "      <td>-16.600000</td>\n",
       "      <td>-193.000000</td>\n",
       "      <td>-21.800000</td>\n",
       "      <td>-16.100000</td>\n",
       "      <td>-14.200000</td>\n",
       "      <td>8.500000</td>\n",
       "      <td>-0.100000</td>\n",
       "      <td>-5.900000</td>\n",
       "    </tr>\n",
       "    <tr>\n",
       "      <th>2</th>\n",
       "      <td>AJ Bush Jr.</td>\n",
       "      <td>1.0</td>\n",
       "      <td>1.0</td>\n",
       "      <td>51.005977</td>\n",
       "      <td>52.7</td>\n",
       "      <td>0.320125</td>\n",
       "      <td>0.4</td>\n",
       "      <td>372.444681</td>\n",
       "      <td>376.0</td>\n",
       "      <td>12.556627</td>\n",
       "      <td>...</td>\n",
       "      <td>50.3</td>\n",
       "      <td>1.694023</td>\n",
       "      <td>0.079875</td>\n",
       "      <td>3.555319</td>\n",
       "      <td>1.443373</td>\n",
       "      <td>0.438406</td>\n",
       "      <td>-0.174606</td>\n",
       "      <td>0.140083</td>\n",
       "      <td>0.067973</td>\n",
       "      <td>1.587740</td>\n",
       "    </tr>\n",
       "    <tr>\n",
       "      <th>3</th>\n",
       "      <td>AJ Mayer</td>\n",
       "      <td>0.0</td>\n",
       "      <td>0.0</td>\n",
       "      <td>57.006680</td>\n",
       "      <td>58.9</td>\n",
       "      <td>3.201252</td>\n",
       "      <td>4.0</td>\n",
       "      <td>60.423206</td>\n",
       "      <td>61.0</td>\n",
       "      <td>5.471102</td>\n",
       "      <td>...</td>\n",
       "      <td>66.6</td>\n",
       "      <td>1.893320</td>\n",
       "      <td>0.798748</td>\n",
       "      <td>0.576794</td>\n",
       "      <td>0.628898</td>\n",
       "      <td>0.508551</td>\n",
       "      <td>-0.017857</td>\n",
       "      <td>0.038594</td>\n",
       "      <td>0.063117</td>\n",
       "      <td>2.102256</td>\n",
       "    </tr>\n",
       "    <tr>\n",
       "      <th>4</th>\n",
       "      <td>AJ McCarron</td>\n",
       "      <td>1.0</td>\n",
       "      <td>1.0</td>\n",
       "      <td>84.900000</td>\n",
       "      <td>82.5</td>\n",
       "      <td>47.300000</td>\n",
       "      <td>43.2</td>\n",
       "      <td>387.000000</td>\n",
       "      <td>404.0</td>\n",
       "      <td>49.600000</td>\n",
       "      <td>...</td>\n",
       "      <td>75.2</td>\n",
       "      <td>-2.400000</td>\n",
       "      <td>-4.100000</td>\n",
       "      <td>17.000000</td>\n",
       "      <td>0.800000</td>\n",
       "      <td>-1.800000</td>\n",
       "      <td>0.800000</td>\n",
       "      <td>2.900000</td>\n",
       "      <td>-1.100000</td>\n",
       "      <td>-2.900000</td>\n",
       "    </tr>\n",
       "  </tbody>\n",
       "</table>\n",
       "<p>5 rows × 30 columns</p>\n",
       "</div>"
      ],
      "text/plain": [
       "          Name  Power 5_3  Power 5_4      QBR_3  QBR_4      PAA_3  PAA_4  \\\n",
       "0   A.J. Doyle        0.0        0.0  21.292818   22.0 -26.170233  -32.7   \n",
       "1  A.J. Erdely        0.0        0.0  49.500000   46.1  24.400000    7.8   \n",
       "2  AJ Bush Jr.        1.0        1.0  51.005977   52.7   0.320125    0.4   \n",
       "3     AJ Mayer        0.0        0.0  57.006680   58.9   3.201252    4.0   \n",
       "4  AJ McCarron        1.0        1.0  84.900000   82.5  47.300000   43.2   \n",
       "\n",
       "      PLAYS_3  PLAYS_4      EPA_3  ...  RAW_4  QBR_Diff   PAA_Diff  \\\n",
       "0  317.964741    321.0 -12.825698  ...   25.8  0.707182  -6.529767   \n",
       "1  486.000000    293.0  40.100000  ...   56.9 -3.400000 -16.600000   \n",
       "2  372.444681    376.0  12.556627  ...   50.3  1.694023   0.079875   \n",
       "3   60.423206     61.0   5.471102  ...   66.6  1.893320   0.798748   \n",
       "4  387.000000    404.0  49.600000  ...   75.2 -2.400000  -4.100000   \n",
       "\n",
       "   PLAYS_Diff   EPA_Diff  PASS_Diff   RUN_Diff  SACK_Diff  PEN_Diff  RAW_Diff  \n",
       "0    3.035259  -1.474302  -0.122754   0.072422   0.091483  0.043697  0.814387  \n",
       "1 -193.000000 -21.800000 -16.100000 -14.200000   8.500000 -0.100000 -5.900000  \n",
       "2    3.555319   1.443373   0.438406  -0.174606   0.140083  0.067973  1.587740  \n",
       "3    0.576794   0.628898   0.508551  -0.017857   0.038594  0.063117  2.102256  \n",
       "4   17.000000   0.800000  -1.800000   0.800000   2.900000 -1.100000 -2.900000  \n",
       "\n",
       "[5 rows x 30 columns]"
      ]
     },
     "execution_count": 70,
     "metadata": {},
     "output_type": "execute_result"
    }
   ],
   "source": [
    "main_df.head()"
   ]
  },
  {
   "cell_type": "markdown",
   "id": "fefc562d-c836-4ce6-a7b4-30eb116cfeaa",
   "metadata": {},
   "source": [
    "# Bringing in combine data\n",
    "We'll add heights, weights, and 40-yard dash times measured at the NFL Scouting Combine for each QB.<br>\n",
    "Not all QBs are invited to the combine. We'll need to take a look that the players who aren't in the combine data. If any of them played more than a game or two in the NFL, we'll need to keep them in the main dataset and manually fill in heights and weights and then probably fill in missing 40-yard dash value with the mean.<br>\n",
    "We'll thin out the herd this way. Most of the QBs who played in college weren't invited to the combine and were never a candidate for the NFL and they would have flooded the dataset with low values for the dependent variable."
   ]
  },
  {
   "cell_type": "code",
   "execution_count": 71,
   "id": "14c77246-de01-4f6a-ba93-fb606ecf1e3f",
   "metadata": {},
   "outputs": [],
   "source": [
    "import nfl_data_py as nfl"
   ]
  },
  {
   "cell_type": "code",
   "execution_count": 72,
   "id": "e067a64b-5271-47f0-a0c2-bf338d6196eb",
   "metadata": {},
   "outputs": [],
   "source": [
    "years = list(np.arange(2004, 2026))"
   ]
  },
  {
   "cell_type": "code",
   "execution_count": 73,
   "id": "3dcf3877-88d7-4ccc-a4f4-b2387bbf4e10",
   "metadata": {},
   "outputs": [],
   "source": [
    "combine_df = nfl.import_combine_data(years, ['QB'])"
   ]
  },
  {
   "cell_type": "code",
   "execution_count": 74,
   "id": "5a8e1bcd-75c7-4afd-8b1b-2ed7ee447efc",
   "metadata": {},
   "outputs": [],
   "source": [
    "combine_names = list(combine_df['player_name'])"
   ]
  },
  {
   "cell_type": "code",
   "execution_count": 75,
   "id": "2b6f61bd-b9d5-43b3-a83a-c1dc26c355f6",
   "metadata": {},
   "outputs": [],
   "source": [
    "main_names = list(main_df['Name'])"
   ]
  },
  {
   "cell_type": "code",
   "execution_count": 76,
   "id": "cede3f6c-e3c2-4d10-bdfa-9b3f45fc1907",
   "metadata": {},
   "outputs": [
    {
     "data": {
      "text/plain": [
       "(395, 1124)"
      ]
     },
     "execution_count": 76,
     "metadata": {},
     "output_type": "execute_result"
    }
   ],
   "source": [
    "len(combine_names), len(main_names)"
   ]
  },
  {
   "cell_type": "code",
   "execution_count": 77,
   "id": "8206b8b7-f0a3-4bdd-9d31-bf709eccc69f",
   "metadata": {},
   "outputs": [
    {
     "data": {
      "text/html": [
       "<div>\n",
       "<style scoped>\n",
       "    .dataframe tbody tr th:only-of-type {\n",
       "        vertical-align: middle;\n",
       "    }\n",
       "\n",
       "    .dataframe tbody tr th {\n",
       "        vertical-align: top;\n",
       "    }\n",
       "\n",
       "    .dataframe thead th {\n",
       "        text-align: right;\n",
       "    }\n",
       "</style>\n",
       "<table border=\"1\" class=\"dataframe\">\n",
       "  <thead>\n",
       "    <tr style=\"text-align: right;\">\n",
       "      <th></th>\n",
       "      <th>season</th>\n",
       "      <th>draft_year</th>\n",
       "      <th>draft_team</th>\n",
       "      <th>draft_round</th>\n",
       "      <th>draft_ovr</th>\n",
       "      <th>pfr_id</th>\n",
       "      <th>cfb_id</th>\n",
       "      <th>player_name</th>\n",
       "      <th>pos</th>\n",
       "      <th>school</th>\n",
       "      <th>ht</th>\n",
       "      <th>wt</th>\n",
       "      <th>forty</th>\n",
       "      <th>bench</th>\n",
       "      <th>vertical</th>\n",
       "      <th>broad_jump</th>\n",
       "      <th>cone</th>\n",
       "      <th>shuttle</th>\n",
       "    </tr>\n",
       "  </thead>\n",
       "  <tbody>\n",
       "    <tr>\n",
       "      <th>1328</th>\n",
       "      <td>2004</td>\n",
       "      <td>NaN</td>\n",
       "      <td>None</td>\n",
       "      <td>NaN</td>\n",
       "      <td>NaN</td>\n",
       "      <td>None</td>\n",
       "      <td>casey-clausen-1</td>\n",
       "      <td>Casey Clausen</td>\n",
       "      <td>QB</td>\n",
       "      <td>Tennessee</td>\n",
       "      <td>6-3</td>\n",
       "      <td>223.0</td>\n",
       "      <td>4.95</td>\n",
       "      <td>NaN</td>\n",
       "      <td>NaN</td>\n",
       "      <td>NaN</td>\n",
       "      <td>NaN</td>\n",
       "      <td>NaN</td>\n",
       "    </tr>\n",
       "    <tr>\n",
       "      <th>1368</th>\n",
       "      <td>2004</td>\n",
       "      <td>NaN</td>\n",
       "      <td>None</td>\n",
       "      <td>NaN</td>\n",
       "      <td>NaN</td>\n",
       "      <td>None</td>\n",
       "      <td>jason-fife-1</td>\n",
       "      <td>Jason Fife</td>\n",
       "      <td>QB</td>\n",
       "      <td>Oregon</td>\n",
       "      <td>6-4</td>\n",
       "      <td>226.0</td>\n",
       "      <td>4.83</td>\n",
       "      <td>NaN</td>\n",
       "      <td>30.5</td>\n",
       "      <td>113.0</td>\n",
       "      <td>7.28</td>\n",
       "      <td>4.18</td>\n",
       "    </tr>\n",
       "    <tr>\n",
       "      <th>1394</th>\n",
       "      <td>2004</td>\n",
       "      <td>2004.0</td>\n",
       "      <td>Baltimore Ravens</td>\n",
       "      <td>6.0</td>\n",
       "      <td>187.0</td>\n",
       "      <td>None</td>\n",
       "      <td>josh-harris-2</td>\n",
       "      <td>Josh Harris</td>\n",
       "      <td>QB</td>\n",
       "      <td>Bowling Green</td>\n",
       "      <td>6-1</td>\n",
       "      <td>238.0</td>\n",
       "      <td>4.78</td>\n",
       "      <td>NaN</td>\n",
       "      <td>31.0</td>\n",
       "      <td>115.0</td>\n",
       "      <td>NaN</td>\n",
       "      <td>NaN</td>\n",
       "    </tr>\n",
       "    <tr>\n",
       "      <th>1429</th>\n",
       "      <td>2004</td>\n",
       "      <td>NaN</td>\n",
       "      <td>None</td>\n",
       "      <td>NaN</td>\n",
       "      <td>NaN</td>\n",
       "      <td>None</td>\n",
       "      <td>None</td>\n",
       "      <td>Robert Kent</td>\n",
       "      <td>QB</td>\n",
       "      <td>Jackson State</td>\n",
       "      <td>6-4</td>\n",
       "      <td>222.0</td>\n",
       "      <td>4.87</td>\n",
       "      <td>NaN</td>\n",
       "      <td>26.5</td>\n",
       "      <td>110.0</td>\n",
       "      <td>7.69</td>\n",
       "      <td>4.22</td>\n",
       "    </tr>\n",
       "    <tr>\n",
       "      <th>1435</th>\n",
       "      <td>2004</td>\n",
       "      <td>2004.0</td>\n",
       "      <td>Chicago Bears</td>\n",
       "      <td>5.0</td>\n",
       "      <td>148.0</td>\n",
       "      <td>KrenCr00</td>\n",
       "      <td>craig-krenzel-1</td>\n",
       "      <td>Craig Krenzel</td>\n",
       "      <td>QB</td>\n",
       "      <td>Ohio State</td>\n",
       "      <td>6-3</td>\n",
       "      <td>228.0</td>\n",
       "      <td>4.84</td>\n",
       "      <td>NaN</td>\n",
       "      <td>28.0</td>\n",
       "      <td>112.0</td>\n",
       "      <td>7.22</td>\n",
       "      <td>4.08</td>\n",
       "    </tr>\n",
       "  </tbody>\n",
       "</table>\n",
       "</div>"
      ],
      "text/plain": [
       "      season  draft_year        draft_team  draft_round  draft_ovr    pfr_id  \\\n",
       "1328    2004         NaN              None          NaN        NaN      None   \n",
       "1368    2004         NaN              None          NaN        NaN      None   \n",
       "1394    2004      2004.0  Baltimore Ravens          6.0      187.0      None   \n",
       "1429    2004         NaN              None          NaN        NaN      None   \n",
       "1435    2004      2004.0     Chicago Bears          5.0      148.0  KrenCr00   \n",
       "\n",
       "               cfb_id    player_name pos         school   ht     wt  forty  \\\n",
       "1328  casey-clausen-1  Casey Clausen  QB      Tennessee  6-3  223.0   4.95   \n",
       "1368     jason-fife-1     Jason Fife  QB         Oregon  6-4  226.0   4.83   \n",
       "1394    josh-harris-2    Josh Harris  QB  Bowling Green  6-1  238.0   4.78   \n",
       "1429             None    Robert Kent  QB  Jackson State  6-4  222.0   4.87   \n",
       "1435  craig-krenzel-1  Craig Krenzel  QB     Ohio State  6-3  228.0   4.84   \n",
       "\n",
       "      bench  vertical  broad_jump  cone  shuttle  \n",
       "1328    NaN       NaN         NaN   NaN      NaN  \n",
       "1368    NaN      30.5       113.0  7.28     4.18  \n",
       "1394    NaN      31.0       115.0   NaN      NaN  \n",
       "1429    NaN      26.5       110.0  7.69     4.22  \n",
       "1435    NaN      28.0       112.0  7.22     4.08  "
      ]
     },
     "execution_count": 77,
     "metadata": {},
     "output_type": "execute_result"
    }
   ],
   "source": [
    "combine_df.head()"
   ]
  },
  {
   "cell_type": "code",
   "execution_count": 78,
   "id": "e6029dd4-035f-4daf-92fd-dca672d56cc6",
   "metadata": {},
   "outputs": [],
   "source": [
    "main_not_in_combine = list(set(main_names).difference(set(combine_names)))\n",
    "combine_not_in_main = list(set(combine_names).difference(set(main_names)))"
   ]
  },
  {
   "cell_type": "code",
   "execution_count": 79,
   "id": "04c5939b-0d2a-4000-946e-47154d1eb46b",
   "metadata": {},
   "outputs": [
    {
     "data": {
      "text/plain": [
       "(825, 96)"
      ]
     },
     "execution_count": 79,
     "metadata": {},
     "output_type": "execute_result"
    }
   ],
   "source": [
    "len(main_not_in_combine), len(combine_not_in_main)"
   ]
  },
  {
   "cell_type": "code",
   "execution_count": 80,
   "id": "b6a63d5a-d853-428d-a351-786ae151bd29",
   "metadata": {},
   "outputs": [
    {
     "data": {
      "text/plain": [
       "['E.J. Manuel',\n",
       " 'Jaxson Dart',\n",
       " 'Chase Holbrook',\n",
       " 'Shedeur Sanders',\n",
       " 'Josh Harris',\n",
       " 'A.J. McCarron',\n",
       " 'Dillon Gabriel',\n",
       " 'Ingle Martin',\n",
       " 'Tom Brandstater',\n",
       " 'EJ Perry',\n",
       " 'Josh Woodrum',\n",
       " 'Ryan Fitzpatrick',\n",
       " 'Kyle Lauletta',\n",
       " 'Ell Roberson',\n",
       " 'Matt Gutierrez',\n",
       " 'Andre Woodson',\n",
       " 'Casey Clausen',\n",
       " 'Seth Henigan',\n",
       " 'Quinn Ewers',\n",
       " 'Joe Flacco',\n",
       " 'Max Brosmer',\n",
       " 'Nathan Enderle',\n",
       " 'Adrian McPherson',\n",
       " 'Luke McCown',\n",
       " 'Cam Ward',\n",
       " 'Matt Mauck',\n",
       " 'Jared Allen',\n",
       " 'Tarvaris Jackson',\n",
       " 'David Moore',\n",
       " 'Brady Davis',\n",
       " 'Eli Manning',\n",
       " 'Jalen Milroe',\n",
       " 'Josh Portis',\n",
       " 'Dustin Vaughan',\n",
       " 'B.J. Coleman',\n",
       " 'Rod Rutherford',\n",
       " 'J.P. Losman',\n",
       " 'Jason Fife',\n",
       " 'Trey Lance',\n",
       " 'Ryan Colburn',\n",
       " 'Kyle McCord',\n",
       " 'Ben Roethlisberger',\n",
       " 'Easton Stick',\n",
       " 'Bruce Eugene',\n",
       " 'Pat Devlin',\n",
       " 'Josh Haldi',\n",
       " 'Kevin Davidson',\n",
       " 'Erik Meyer',\n",
       " 'Aaron Corp',\n",
       " 'Brad Sorensen',\n",
       " 'Cody Pickett',\n",
       " 'Barrick Nealy',\n",
       " 'Ben Dougherty',\n",
       " 'Colby Cameron',\n",
       " 'Kurtis Rourke',\n",
       " 'Travis Lulay',\n",
       " 'Tyler Shough',\n",
       " 'Nathan Brown',\n",
       " 'Brady Cook',\n",
       " 'Jeff Smoker',\n",
       " 'Tyson Bagent',\n",
       " 'Bryan Bennett',\n",
       " 'Jerry Lovelocke',\n",
       " 'Toby Korrodi',\n",
       " 'John Skelton',\n",
       " 'Colin Kaepernick',\n",
       " 'Riley Leonard',\n",
       " 'Paul Pinegar',\n",
       " 'Bradlee Van Pelt',\n",
       " 'Craig Krenzel',\n",
       " 'Cole Kelley',\n",
       " 'Mike Reilly',\n",
       " 'Dustin Long',\n",
       " 'Craig Ochs',\n",
       " 'Jason Boltus',\n",
       " 'Jeff Mathews',\n",
       " 'Kevin Thomson',\n",
       " 'Scott Rislov',\n",
       " 'Timmy Chang',\n",
       " 'Josh Johnson',\n",
       " 'Robert Kent',\n",
       " 'Adam Tafralis',\n",
       " 'Philip Rivers',\n",
       " 'Matt Schaub',\n",
       " 'Colt Brennan',\n",
       " 'Vernon Adams',\n",
       " 'Jimmy Garoppolo',\n",
       " 'Jared Lorenzen',\n",
       " 'John Navarre',\n",
       " 'Jeff Rowe',\n",
       " 'Carson Wentz',\n",
       " 'Chris Rix',\n",
       " 'B.J. Symons',\n",
       " 'Will Howard',\n",
       " 'Patrick Witt',\n",
       " 'Jared Zabransky']"
      ]
     },
     "execution_count": 80,
     "metadata": {},
     "output_type": "execute_result"
    }
   ],
   "source": [
    "combine_not_in_main"
   ]
  },
  {
   "cell_type": "code",
   "execution_count": 81,
   "id": "240193f0-7f39-4dea-92ce-cc3d6157043e",
   "metadata": {},
   "outputs": [],
   "source": [
    "combine_names_to_keep = ['Joe Flacco', 'Ryan Fitzpatrick', 'Luke McCown', 'Tarvaris Jackson', 'Trey Lance', 'Easton Stick',\\\n",
    "                         'John Skelton', 'Colin Kaepernick', 'Colt Brennan', 'Jimmy Garoppolo', 'Josh Johnson', 'Carson Wentz']"
   ]
  },
  {
   "cell_type": "code",
   "execution_count": 82,
   "id": "cb0dc2cb-0087-4554-918b-ada29013b478",
   "metadata": {},
   "outputs": [],
   "source": [
    "names_to_keep = ['AJ McCarron', 'EJ Manuel', 'Nick Mullens', 'Trevor Siemian', 'Kyle Allen', 'Taysom Hill', 'Tyler Huntley',\\\n",
    "                 'Matt Moore', 'David Blough', 'Terrelle Pryor Sr.', 'Taylor Heinicke', 'John Wolford', 'PJ Walker', 'Tommy DeVito']"
   ]
  },
  {
   "cell_type": "code",
   "execution_count": 83,
   "id": "d5999046-f5d0-49bf-96e2-9d17605980cf",
   "metadata": {},
   "outputs": [],
   "source": [
    "main_not_in_combine = set(main_not_in_combine)\n",
    "names_to_keep = set(names_to_keep)"
   ]
  },
  {
   "cell_type": "code",
   "execution_count": 84,
   "id": "7e6f88f4-036e-4412-ab90-72d01c08806c",
   "metadata": {},
   "outputs": [],
   "source": [
    "drop_players = main_not_in_combine.difference(names_to_keep)"
   ]
  },
  {
   "cell_type": "code",
   "execution_count": 85,
   "id": "9f64e95f-0d57-47b6-8af9-ba505f2f726b",
   "metadata": {},
   "outputs": [
    {
     "data": {
      "text/plain": [
       "811"
      ]
     },
     "execution_count": 85,
     "metadata": {},
     "output_type": "execute_result"
    }
   ],
   "source": [
    "len(drop_players)"
   ]
  },
  {
   "cell_type": "code",
   "execution_count": 86,
   "id": "4a5eecf3-0f32-48ff-91e6-20c0510900df",
   "metadata": {},
   "outputs": [],
   "source": [
    "main_df = main_df[~main_df['Name'].isin(drop_players)]"
   ]
  },
  {
   "cell_type": "code",
   "execution_count": 87,
   "id": "4c6f8be2-a207-44ea-90e6-aea8f20c01e3",
   "metadata": {},
   "outputs": [
    {
     "data": {
      "text/plain": [
       "313"
      ]
     },
     "execution_count": 87,
     "metadata": {},
     "output_type": "execute_result"
    }
   ],
   "source": [
    "main_df['Name'].nunique()"
   ]
  },
  {
   "cell_type": "code",
   "execution_count": 88,
   "id": "052f7ce7-e051-4052-99c6-3dff1c0f7aee",
   "metadata": {},
   "outputs": [
    {
     "name": "stdout",
     "output_type": "stream",
     "text": [
      "<class 'pandas.core.frame.DataFrame'>\n",
      "Index: 313 entries, 4 to 1119\n",
      "Data columns (total 30 columns):\n",
      " #   Column      Non-Null Count  Dtype  \n",
      "---  ------      --------------  -----  \n",
      " 0   Name        313 non-null    object \n",
      " 1   Power 5_3   313 non-null    float64\n",
      " 2   Power 5_4   313 non-null    float64\n",
      " 3   QBR_3       313 non-null    float64\n",
      " 4   QBR_4       313 non-null    float64\n",
      " 5   PAA_3       313 non-null    float64\n",
      " 6   PAA_4       313 non-null    float64\n",
      " 7   PLAYS_3     313 non-null    float64\n",
      " 8   PLAYS_4     313 non-null    float64\n",
      " 9   EPA_3       313 non-null    float64\n",
      " 10  EPA_4       313 non-null    float64\n",
      " 11  PASS_3      313 non-null    float64\n",
      " 12  PASS_4      313 non-null    float64\n",
      " 13  RUN_3       313 non-null    float64\n",
      " 14  RUN_4       313 non-null    float64\n",
      " 15  SACK_3      313 non-null    float64\n",
      " 16  SACK_4      313 non-null    float64\n",
      " 17  PEN_3       313 non-null    float64\n",
      " 18  PEN_4       313 non-null    float64\n",
      " 19  RAW_3       313 non-null    float64\n",
      " 20  RAW_4       313 non-null    float64\n",
      " 21  QBR_Diff    313 non-null    float64\n",
      " 22  PAA_Diff    313 non-null    float64\n",
      " 23  PLAYS_Diff  313 non-null    float64\n",
      " 24  EPA_Diff    313 non-null    float64\n",
      " 25  PASS_Diff   313 non-null    float64\n",
      " 26  RUN_Diff    313 non-null    float64\n",
      " 27  SACK_Diff   313 non-null    float64\n",
      " 28  PEN_Diff    313 non-null    float64\n",
      " 29  RAW_Diff    313 non-null    float64\n",
      "dtypes: float64(29), object(1)\n",
      "memory usage: 75.8+ KB\n"
     ]
    }
   ],
   "source": [
    "main_df.info()"
   ]
  },
  {
   "cell_type": "code",
   "execution_count": 89,
   "id": "c58596bf-8a5a-4469-852a-4d35f4dcee30",
   "metadata": {},
   "outputs": [],
   "source": [
    "main_df['Name'] = main_df['Name'].replace({'AJ McCarron': 'A.J. McCarron', 'EJ Manuel': 'E.J. Manuel'})"
   ]
  },
  {
   "cell_type": "code",
   "execution_count": 90,
   "id": "1333cdbe-9daa-4f9a-bee6-12fcdab1aaa4",
   "metadata": {},
   "outputs": [],
   "source": [
    "combine_df = combine_df[['season', 'player_name', 'ht', 'wt', 'forty', 'vertical', 'broad_jump', 'cone', 'shuttle']]"
   ]
  },
  {
   "cell_type": "code",
   "execution_count": 91,
   "id": "ac0c8ce4-f5b2-4008-bcce-f9c643c2944e",
   "metadata": {},
   "outputs": [],
   "source": [
    "combine_df = combine_df.rename(columns = {'season': 'Season', 'player_name': 'Name'})"
   ]
  },
  {
   "cell_type": "markdown",
   "id": "6e45fa16-4f6c-4ed5-adfc-f0ac07ffb0f9",
   "metadata": {},
   "source": [
    "# Adding non-FBS QBs who participated in combine\n",
    "Here is where we need to append these rows to the main dataframe. We'll fill empty college stats with means."
   ]
  },
  {
   "cell_type": "code",
   "execution_count": 92,
   "id": "736c9cbe-eaec-4d63-a92e-b4e328ed8720",
   "metadata": {},
   "outputs": [],
   "source": [
    "main_df_cols = list(main_df.columns)"
   ]
  },
  {
   "cell_type": "code",
   "execution_count": 93,
   "id": "7305c997-43cd-43bb-84f4-d12c5aa515b9",
   "metadata": {},
   "outputs": [],
   "source": [
    "append_df = pd.DataFrame()"
   ]
  },
  {
   "cell_type": "code",
   "execution_count": 94,
   "id": "9c8a43e6-bc40-4f4e-bb49-ab53580e2eca",
   "metadata": {},
   "outputs": [],
   "source": [
    "append_df['Name'] = combine_names_to_keep"
   ]
  },
  {
   "cell_type": "code",
   "execution_count": 95,
   "id": "304fe8b7-0c5b-4afb-ba60-e697f4589bae",
   "metadata": {},
   "outputs": [],
   "source": [
    "main_df = pd.concat([main_df, append_df])"
   ]
  },
  {
   "cell_type": "code",
   "execution_count": 96,
   "id": "21038354-0f2a-4818-b621-c5634a6665fb",
   "metadata": {},
   "outputs": [
    {
     "data": {
      "text/html": [
       "<div>\n",
       "<style scoped>\n",
       "    .dataframe tbody tr th:only-of-type {\n",
       "        vertical-align: middle;\n",
       "    }\n",
       "\n",
       "    .dataframe tbody tr th {\n",
       "        vertical-align: top;\n",
       "    }\n",
       "\n",
       "    .dataframe thead th {\n",
       "        text-align: right;\n",
       "    }\n",
       "</style>\n",
       "<table border=\"1\" class=\"dataframe\">\n",
       "  <thead>\n",
       "    <tr style=\"text-align: right;\">\n",
       "      <th></th>\n",
       "      <th>Name</th>\n",
       "      <th>Power 5_3</th>\n",
       "      <th>Power 5_4</th>\n",
       "      <th>QBR_3</th>\n",
       "      <th>QBR_4</th>\n",
       "      <th>PAA_3</th>\n",
       "      <th>PAA_4</th>\n",
       "      <th>PLAYS_3</th>\n",
       "      <th>PLAYS_4</th>\n",
       "      <th>EPA_3</th>\n",
       "      <th>...</th>\n",
       "      <th>RAW_4</th>\n",
       "      <th>QBR_Diff</th>\n",
       "      <th>PAA_Diff</th>\n",
       "      <th>PLAYS_Diff</th>\n",
       "      <th>EPA_Diff</th>\n",
       "      <th>PASS_Diff</th>\n",
       "      <th>RUN_Diff</th>\n",
       "      <th>SACK_Diff</th>\n",
       "      <th>PEN_Diff</th>\n",
       "      <th>RAW_Diff</th>\n",
       "    </tr>\n",
       "  </thead>\n",
       "  <tbody>\n",
       "    <tr>\n",
       "      <th>4</th>\n",
       "      <td>A.J. McCarron</td>\n",
       "      <td>1.0</td>\n",
       "      <td>1.0</td>\n",
       "      <td>84.900000</td>\n",
       "      <td>82.5</td>\n",
       "      <td>47.300000</td>\n",
       "      <td>43.2</td>\n",
       "      <td>387.000000</td>\n",
       "      <td>404.0</td>\n",
       "      <td>49.600000</td>\n",
       "      <td>...</td>\n",
       "      <td>75.2</td>\n",
       "      <td>-2.400000</td>\n",
       "      <td>-4.100000</td>\n",
       "      <td>17.000000</td>\n",
       "      <td>0.800000</td>\n",
       "      <td>-1.800000</td>\n",
       "      <td>0.800000</td>\n",
       "      <td>2.900000</td>\n",
       "      <td>-1.100000</td>\n",
       "      <td>-2.900000</td>\n",
       "    </tr>\n",
       "    <tr>\n",
       "      <th>6</th>\n",
       "      <td>Aaron Murray</td>\n",
       "      <td>1.0</td>\n",
       "      <td>1.0</td>\n",
       "      <td>80.900000</td>\n",
       "      <td>88.1</td>\n",
       "      <td>51.100000</td>\n",
       "      <td>59.1</td>\n",
       "      <td>503.000000</td>\n",
       "      <td>443.0</td>\n",
       "      <td>61.300000</td>\n",
       "      <td>...</td>\n",
       "      <td>80.0</td>\n",
       "      <td>7.200000</td>\n",
       "      <td>8.000000</td>\n",
       "      <td>-60.000000</td>\n",
       "      <td>9.500000</td>\n",
       "      <td>-10.100000</td>\n",
       "      <td>11.700000</td>\n",
       "      <td>4.800000</td>\n",
       "      <td>3.600000</td>\n",
       "      <td>5.800000</td>\n",
       "    </tr>\n",
       "    <tr>\n",
       "      <th>9</th>\n",
       "      <td>Aaron Rodgers</td>\n",
       "      <td>1.0</td>\n",
       "      <td>1.0</td>\n",
       "      <td>72.685937</td>\n",
       "      <td>75.1</td>\n",
       "      <td>23.609231</td>\n",
       "      <td>29.5</td>\n",
       "      <td>418.009721</td>\n",
       "      <td>422.0</td>\n",
       "      <td>37.669882</td>\n",
       "      <td>...</td>\n",
       "      <td>67.4</td>\n",
       "      <td>2.414063</td>\n",
       "      <td>5.890769</td>\n",
       "      <td>3.990279</td>\n",
       "      <td>4.330118</td>\n",
       "      <td>4.340223</td>\n",
       "      <td>-0.063493</td>\n",
       "      <td>0.202977</td>\n",
       "      <td>0.019421</td>\n",
       "      <td>2.127508</td>\n",
       "    </tr>\n",
       "    <tr>\n",
       "      <th>17</th>\n",
       "      <td>Aidan O'Connell</td>\n",
       "      <td>1.0</td>\n",
       "      <td>1.0</td>\n",
       "      <td>85.700000</td>\n",
       "      <td>71.4</td>\n",
       "      <td>65.700000</td>\n",
       "      <td>24.1</td>\n",
       "      <td>496.000000</td>\n",
       "      <td>576.0</td>\n",
       "      <td>77.300000</td>\n",
       "      <td>...</td>\n",
       "      <td>60.7</td>\n",
       "      <td>-14.300000</td>\n",
       "      <td>-41.600000</td>\n",
       "      <td>80.000000</td>\n",
       "      <td>-31.800000</td>\n",
       "      <td>-32.200000</td>\n",
       "      <td>-2.100000</td>\n",
       "      <td>0.900000</td>\n",
       "      <td>1.800000</td>\n",
       "      <td>-19.100000</td>\n",
       "    </tr>\n",
       "    <tr>\n",
       "      <th>20</th>\n",
       "      <td>Alex Brink</td>\n",
       "      <td>1.0</td>\n",
       "      <td>1.0</td>\n",
       "      <td>63.700000</td>\n",
       "      <td>70.5</td>\n",
       "      <td>6.500000</td>\n",
       "      <td>24.0</td>\n",
       "      <td>506.000000</td>\n",
       "      <td>609.0</td>\n",
       "      <td>26.900000</td>\n",
       "      <td>...</td>\n",
       "      <td>60.1</td>\n",
       "      <td>6.800000</td>\n",
       "      <td>17.500000</td>\n",
       "      <td>103.000000</td>\n",
       "      <td>17.300000</td>\n",
       "      <td>-5.700000</td>\n",
       "      <td>14.300000</td>\n",
       "      <td>5.800000</td>\n",
       "      <td>2.900000</td>\n",
       "      <td>6.800000</td>\n",
       "    </tr>\n",
       "  </tbody>\n",
       "</table>\n",
       "<p>5 rows × 30 columns</p>\n",
       "</div>"
      ],
      "text/plain": [
       "               Name  Power 5_3  Power 5_4      QBR_3  QBR_4      PAA_3  PAA_4  \\\n",
       "4     A.J. McCarron        1.0        1.0  84.900000   82.5  47.300000   43.2   \n",
       "6      Aaron Murray        1.0        1.0  80.900000   88.1  51.100000   59.1   \n",
       "9     Aaron Rodgers        1.0        1.0  72.685937   75.1  23.609231   29.5   \n",
       "17  Aidan O'Connell        1.0        1.0  85.700000   71.4  65.700000   24.1   \n",
       "20       Alex Brink        1.0        1.0  63.700000   70.5   6.500000   24.0   \n",
       "\n",
       "       PLAYS_3  PLAYS_4      EPA_3  ...  RAW_4   QBR_Diff   PAA_Diff  \\\n",
       "4   387.000000    404.0  49.600000  ...   75.2  -2.400000  -4.100000   \n",
       "6   503.000000    443.0  61.300000  ...   80.0   7.200000   8.000000   \n",
       "9   418.009721    422.0  37.669882  ...   67.4   2.414063   5.890769   \n",
       "17  496.000000    576.0  77.300000  ...   60.7 -14.300000 -41.600000   \n",
       "20  506.000000    609.0  26.900000  ...   60.1   6.800000  17.500000   \n",
       "\n",
       "    PLAYS_Diff   EPA_Diff  PASS_Diff   RUN_Diff  SACK_Diff  PEN_Diff  \\\n",
       "4    17.000000   0.800000  -1.800000   0.800000   2.900000 -1.100000   \n",
       "6   -60.000000   9.500000 -10.100000  11.700000   4.800000  3.600000   \n",
       "9     3.990279   4.330118   4.340223  -0.063493   0.202977  0.019421   \n",
       "17   80.000000 -31.800000 -32.200000  -2.100000   0.900000  1.800000   \n",
       "20  103.000000  17.300000  -5.700000  14.300000   5.800000  2.900000   \n",
       "\n",
       "     RAW_Diff  \n",
       "4   -2.900000  \n",
       "6    5.800000  \n",
       "9    2.127508  \n",
       "17 -19.100000  \n",
       "20   6.800000  \n",
       "\n",
       "[5 rows x 30 columns]"
      ]
     },
     "execution_count": 96,
     "metadata": {},
     "output_type": "execute_result"
    }
   ],
   "source": [
    "main_df.head()"
   ]
  },
  {
   "cell_type": "code",
   "execution_count": 97,
   "id": "9644c8a1-df52-4d98-8314-e71f18258b76",
   "metadata": {},
   "outputs": [],
   "source": [
    "main_df = pd.merge(main_df, combine_df, on='Name', how='left')"
   ]
  },
  {
   "cell_type": "code",
   "execution_count": 98,
   "id": "bf535b65-270c-486f-9a01-43211c193616",
   "metadata": {},
   "outputs": [],
   "source": [
    "def convert_height(height_str):\n",
    "    try:\n",
    "        # If height_str is already a float or NaN, return None\n",
    "        if pd.isnull(height_str):\n",
    "            return None\n",
    "        feet, inches = height_str.split('-')\n",
    "        return int(feet) * 12 + int(inches)\n",
    "    except:\n",
    "        return None  # fallback if formatting is off"
   ]
  },
  {
   "cell_type": "code",
   "execution_count": 99,
   "id": "4dd85479-c217-4686-ba64-85232a9c3272",
   "metadata": {},
   "outputs": [],
   "source": [
    "main_df['ht'] = main_df['ht'].apply(convert_height)"
   ]
  },
  {
   "cell_type": "code",
   "execution_count": 100,
   "id": "f06c4f40-7f4c-4808-8ac4-9a1841799b23",
   "metadata": {},
   "outputs": [],
   "source": [
    "missing_combine = main_df[main_df['Season'].isna()]"
   ]
  },
  {
   "cell_type": "code",
   "execution_count": 101,
   "id": "5b163704-e97b-4902-ae03-0c3ddd54bf59",
   "metadata": {},
   "outputs": [],
   "source": [
    "missing_combine_names = list(missing_combine['Name'])"
   ]
  },
  {
   "cell_type": "code",
   "execution_count": 102,
   "id": "b7e4ed5d-6342-4ee3-b0e5-9efff185051a",
   "metadata": {},
   "outputs": [
    {
     "data": {
      "text/plain": [
       "['David Blough',\n",
       " 'John Wolford',\n",
       " 'Kyle Allen',\n",
       " 'Matt Moore',\n",
       " 'Nick Mullens',\n",
       " 'PJ Walker',\n",
       " 'Taylor Heinicke',\n",
       " 'Taysom Hill',\n",
       " 'Terrelle Pryor Sr.',\n",
       " 'Tommy DeVito',\n",
       " 'Trevor Siemian',\n",
       " 'Tyler Huntley']"
      ]
     },
     "execution_count": 102,
     "metadata": {},
     "output_type": "execute_result"
    }
   ],
   "source": [
    "missing_combine_names"
   ]
  },
  {
   "cell_type": "code",
   "execution_count": 103,
   "id": "322a11e3-d841-48c5-8c29-10b7f7280533",
   "metadata": {},
   "outputs": [],
   "source": [
    "missing_combine_seasons = [2019, 2020, 2018, 2007, 2018, 2020, 2017, 2017, 2011, 2023, 2015, 2020]\n",
    "missing_combine_heights = [73, 73, 75, 75, 72, 71, 73, 74, 76, 74, 75, 73]\n",
    "missing_combine_weights = [207, 218, 210, 219, 210, 215, 210, 221, 228, 210, 220, 205]"
   ]
  },
  {
   "cell_type": "code",
   "execution_count": 104,
   "id": "5d3f6fa6-1c1b-43ee-890c-20b3359e7b7c",
   "metadata": {},
   "outputs": [],
   "source": [
    "fill_lists = []\n",
    "for i in range(len(missing_combine_names)):\n",
    "    temp_list = []\n",
    "    temp_list.append(missing_combine_seasons[i])\n",
    "    temp_list.append(missing_combine_heights[i])\n",
    "    temp_list.append(missing_combine_weights[i])\n",
    "    fill_lists.append(temp_list)"
   ]
  },
  {
   "cell_type": "code",
   "execution_count": 105,
   "id": "f0e263be-df76-460b-9849-ac589dbc690b",
   "metadata": {},
   "outputs": [],
   "source": [
    "fill_dict = dict(zip(missing_combine_names, fill_lists))"
   ]
  },
  {
   "cell_type": "code",
   "execution_count": 106,
   "id": "b874aa0b-87ed-499e-8c84-8bf2ed3aeba2",
   "metadata": {},
   "outputs": [
    {
     "data": {
      "text/plain": [
       "{'David Blough': [2019, 73, 207],\n",
       " 'John Wolford': [2020, 73, 218],\n",
       " 'Kyle Allen': [2018, 75, 210],\n",
       " 'Matt Moore': [2007, 75, 219],\n",
       " 'Nick Mullens': [2018, 72, 210],\n",
       " 'PJ Walker': [2020, 71, 215],\n",
       " 'Taylor Heinicke': [2017, 73, 210],\n",
       " 'Taysom Hill': [2017, 74, 221],\n",
       " 'Terrelle Pryor Sr.': [2011, 76, 228],\n",
       " 'Tommy DeVito': [2023, 74, 210],\n",
       " 'Trevor Siemian': [2015, 75, 220],\n",
       " 'Tyler Huntley': [2020, 73, 205]}"
      ]
     },
     "execution_count": 106,
     "metadata": {},
     "output_type": "execute_result"
    }
   ],
   "source": [
    "fill_dict"
   ]
  },
  {
   "cell_type": "code",
   "execution_count": 107,
   "id": "2ca73509-1598-4b31-8e23-b5690fa1737d",
   "metadata": {},
   "outputs": [],
   "source": [
    "for k, v in fill_dict.items():\n",
    "    main_df.loc[main_df['Name'] == k, 'Season'] = v[0]\n",
    "    main_df.loc[main_df['Name'] == k, 'ht'] = v[1]\n",
    "    main_df.loc[main_df['Name'] == k, 'wt'] = v[2]"
   ]
  },
  {
   "cell_type": "code",
   "execution_count": 108,
   "id": "48b7124b-baac-4495-a411-0f93c4ae5e4e",
   "metadata": {},
   "outputs": [],
   "source": [
    "main_df = main_df.fillna(main_df.mean(numeric_only=True))"
   ]
  },
  {
   "cell_type": "code",
   "execution_count": 109,
   "id": "4b438717-4154-4b53-bf7e-747812eb771d",
   "metadata": {},
   "outputs": [],
   "source": [
    "main_df['Season'] = main_df['Season'].astype('int')"
   ]
  },
  {
   "cell_type": "code",
   "execution_count": 110,
   "id": "77685628-326e-40c1-915d-d472fb1e0f91",
   "metadata": {},
   "outputs": [
    {
     "name": "stdout",
     "output_type": "stream",
     "text": [
      "<class 'pandas.core.frame.DataFrame'>\n",
      "RangeIndex: 325 entries, 0 to 324\n",
      "Data columns (total 38 columns):\n",
      " #   Column      Non-Null Count  Dtype  \n",
      "---  ------      --------------  -----  \n",
      " 0   Name        325 non-null    object \n",
      " 1   Power 5_3   325 non-null    float64\n",
      " 2   Power 5_4   325 non-null    float64\n",
      " 3   QBR_3       325 non-null    float64\n",
      " 4   QBR_4       325 non-null    float64\n",
      " 5   PAA_3       325 non-null    float64\n",
      " 6   PAA_4       325 non-null    float64\n",
      " 7   PLAYS_3     325 non-null    float64\n",
      " 8   PLAYS_4     325 non-null    float64\n",
      " 9   EPA_3       325 non-null    float64\n",
      " 10  EPA_4       325 non-null    float64\n",
      " 11  PASS_3      325 non-null    float64\n",
      " 12  PASS_4      325 non-null    float64\n",
      " 13  RUN_3       325 non-null    float64\n",
      " 14  RUN_4       325 non-null    float64\n",
      " 15  SACK_3      325 non-null    float64\n",
      " 16  SACK_4      325 non-null    float64\n",
      " 17  PEN_3       325 non-null    float64\n",
      " 18  PEN_4       325 non-null    float64\n",
      " 19  RAW_3       325 non-null    float64\n",
      " 20  RAW_4       325 non-null    float64\n",
      " 21  QBR_Diff    325 non-null    float64\n",
      " 22  PAA_Diff    325 non-null    float64\n",
      " 23  PLAYS_Diff  325 non-null    float64\n",
      " 24  EPA_Diff    325 non-null    float64\n",
      " 25  PASS_Diff   325 non-null    float64\n",
      " 26  RUN_Diff    325 non-null    float64\n",
      " 27  SACK_Diff   325 non-null    float64\n",
      " 28  PEN_Diff    325 non-null    float64\n",
      " 29  RAW_Diff    325 non-null    float64\n",
      " 30  Season      325 non-null    int32  \n",
      " 31  ht          325 non-null    float64\n",
      " 32  wt          325 non-null    float64\n",
      " 33  forty       325 non-null    float64\n",
      " 34  vertical    325 non-null    float64\n",
      " 35  broad_jump  325 non-null    float64\n",
      " 36  cone        325 non-null    float64\n",
      " 37  shuttle     325 non-null    float64\n",
      "dtypes: float64(36), int32(1), object(1)\n",
      "memory usage: 95.3+ KB\n"
     ]
    }
   ],
   "source": [
    "main_df.info()"
   ]
  },
  {
   "cell_type": "code",
   "execution_count": 111,
   "id": "cbb9c5f2-db12-4b57-b1ca-55b66fa3d6c3",
   "metadata": {},
   "outputs": [],
   "source": [
    "main_df.to_csv('dataset_combine_nums.csv', index = False)"
   ]
  },
  {
   "cell_type": "code",
   "execution_count": null,
   "id": "519340f6-0d7e-4695-bf5f-1dd55736bc85",
   "metadata": {},
   "outputs": [],
   "source": []
  }
 ],
 "metadata": {
  "kernelspec": {
   "display_name": "Python 3 (ipykernel)",
   "language": "python",
   "name": "python3"
  },
  "language_info": {
   "codemirror_mode": {
    "name": "ipython",
    "version": 3
   },
   "file_extension": ".py",
   "mimetype": "text/x-python",
   "name": "python",
   "nbconvert_exporter": "python",
   "pygments_lexer": "ipython3",
   "version": "3.10.16"
  }
 },
 "nbformat": 4,
 "nbformat_minor": 5
}
